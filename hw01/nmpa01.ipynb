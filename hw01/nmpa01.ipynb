{
 "cells": [
  {
   "cell_type": "markdown",
   "id": "9f88a87b-a25d-4fdf-9cea-4d0dfc42c55b",
   "metadata": {
    "editable": true,
    "slideshow": {
     "slide_type": ""
    },
    "tags": []
   },
   "source": [
    "# Numerical Methods in Physics and Astrophysics (2024/25) - Exercises\n",
    "\n",
    "## Name: Andres Guarin\n",
    "## Enrollment Number: 6748917"
   ]
  },
  {
   "cell_type": "code",
   "execution_count": 1,
   "id": "4fa0bacf-d896-4a66-91f8-a99b92b088eb",
   "metadata": {},
   "outputs": [],
   "source": [
    "import numpy as np\n",
    "import matplotlib.pyplot as plt"
   ]
  },
  {
   "cell_type": "markdown",
   "id": "29675b79-fab2-43f5-92a4-ba9f0ab6c02a",
   "metadata": {},
   "source": [
    "## Problem I"
   ]
  },
  {
   "cell_type": "markdown",
   "id": "b05ed8c9-449b-4d73-ad8e-ef5b7323ce83",
   "metadata": {},
   "source": [
    "We will consider specifically the following function:\n",
    "\\begin{equation}\n",
    "    f(x) = e^{\\sqrt{5}x}-13.5\\cos(0.1x)+25x^4\n",
    "\\end{equation}"
   ]
  },
  {
   "cell_type": "code",
   "execution_count": 2,
   "id": "5905d390-dabe-4776-ad53-dd3299881417",
   "metadata": {},
   "outputs": [
    {
     "data": {
      "image/png": "[encoded data removed]",
      "text/plain": [
       "<Figure size 640x480 with 1 Axes>"
      ]
     },
     "metadata": {},
     "output_type": "display_data"
    }
   ],
   "source": [
    "f = lambda x : np.exp(np.sqrt(5)*x) - 13.5*np.cos(0.1*x) + 25*x**4\n",
    "x = np.linspace(-1, 2)\n",
    "plt.plot(x, f(x))\n",
    "plt.grid()\n",
    "plt.show()"
   ]
  },
  {
   "cell_type": "markdown",
   "id": "1fc223fc-6591-449d-9fb5-48bbe9c6ff05",
   "metadata": {},
   "source": [
    "### 1. Find this root again, using **linear interpolation**."
   ]
  },
  {
   "cell_type": "markdown",
   "id": "8da3ffd5-03ef-4eb0-88f9-66b51e5a1a6c",
   "metadata": {},
   "source": [
    "*Solution:*"
   ]
  },
  {
   "cell_type": "markdown",
   "id": "dd698f9e-edc8-4f6b-a7ba-eb20e0f6d885",
   "metadata": {},
   "source": [
    "We implement the linear interpolation algorithm in the following function:"
   ]
  },
  {
   "cell_type": "code",
   "execution_count": 3,
   "id": "0e032e00-4a83-4a6b-aa12-e4d519bf7d87",
   "metadata": {},
   "outputs": [],
   "source": [
    "def linear_interpolation(f, x1, x2, e):\n",
    "    \"\"\"\n",
    "    Linear interpolation algorithm for root finding, assuming the root is in the interval (x1, x2).\n",
    "\n",
    "    Parameters:\n",
    "    f: function whose roots we want to find.\n",
    "    x1: first endpoint of the interval used in the linear interpolation algorithm.\n",
    "    x2: second endpoint of the interval used in the linear interpolation algorithm.\n",
    "    e: tolerance in f(x).\n",
    "\n",
    "    Returns:\n",
    "    float\n",
    "        the value obtained for the root of f.\n",
    "    \"\"\"\n",
    "    n = 1\n",
    "    while True:\n",
    "        f1 = f(x1)\n",
    "        f2 = f(x2)\n",
    "        x3 = x2 - f2*(x2-x1)/(f2-f1)\n",
    "        f3 = f(x3)\n",
    "        if f3*f1 < 0:\n",
    "            estim_error = abs(x2-x1)\n",
    "            x2 = x3\n",
    "        else:\n",
    "            x1 = x3\n",
    "        print(f'Iter {n}, x={x3}, f(x)={f3}')\n",
    "        if (abs(f3) < e):\n",
    "            break\n",
    "        n += 1\n",
    "    return x3"
   ]
  },
  {
   "cell_type": "markdown",
   "id": "cecf05e4-20a4-4459-9ffa-c1e540308dac",
   "metadata": {},
   "source": [
    "We apply the algorithm to the specified function, considering initial values $x_1=0$, $x_2=1$, and a tolerance of $10^{-12}$:"
   ]
  },
  {
   "cell_type": "code",
   "execution_count": 4,
   "id": "f788ba97-76c2-45fa-9911-3dc0295c23fe",
   "metadata": {},
   "outputs": [
    {
     "name": "stdout",
     "output_type": "stream",
     "text": [
      "Iter 1, x=0.3739837427256477, f(x)=-10.693808994189293\n",
      "Iter 2, x=0.5857162112832606, f(x)=-6.829469339165751\n",
      "Iter 3, x=0.6876619280272873, f(x)=-3.2240488692420426\n",
      "Iter 4, x=0.7293628890511948, f(x)=-1.2808041299787396\n",
      "Iter 5, x=0.7449736770990931, f(x)=-0.47235958019156676\n",
      "Iter 6, x=0.7506038226106678, f(x)=-0.16934292238400328\n",
      "Iter 7, x=0.7526060492036459, f(x)=-0.06008983642239407\n",
      "Iter 8, x=0.7533144870695382, f(x)=-0.02124445359651972\n",
      "Iter 9, x=0.7535646976013857, f(x)=-0.007501141027564273\n",
      "Iter 10, x=0.7536530120346085, f(x)=-0.0026473434046216937\n",
      "Iter 11, x=0.7536841765007141, f(x)=-0.000934163833862911\n",
      "Iter 12, x=0.7536951729650887, f(x)=-0.00032961810095422095\n",
      "Iter 13, x=0.7536990529874942, f(x)=-0.00011630283934493946\n",
      "Iter 14, x=0.7537004220115646, f(x)=-4.10361395903891e-05\n",
      "Iter 15, x=0.7537009050552546, f(x)=-1.4479100805431244e-05\n",
      "Iter 16, x=0.7537010754912047, f(x)=-5.108769409289948e-06\n",
      "Iter 17, x=0.7537011356273808, f(x)=-1.8025647499086972e-06\n",
      "Iter 18, x=0.7537011568456691, f(x)=-6.36012130073027e-07\n",
      "Iter 19, x=0.753701164332273, f(x)=-2.2440881508600796e-07\n",
      "Iter 20, x=0.7537011669738262, f(x)=-7.917980404670288e-08\n",
      "Iter 21, x=0.7537011679058647, f(x)=-2.793758824282122e-08\n",
      "Iter 22, x=0.7537011682347227, f(x)=-9.857426874759767e-09\n",
      "Iter 23, x=0.7537011683507561, f(x)=-3.4780676116952236e-09\n",
      "Iter 24, x=0.753701168391697, f(x)=-1.2271907934291448e-09\n",
      "Iter 25, x=0.7537011684061424, f(x)=-4.3299941410168685e-10\n"
     ]
    },
    {
     "data": {
      "text/plain": [
       "0.7537011684061424"
      ]
     },
     "execution_count": 4,
     "metadata": {},
     "output_type": "execute_result"
    }
   ],
   "source": [
    "linear_interpolation(f, 0, 1, 1e-9)"
   ]
  },
  {
   "cell_type": "markdown",
   "id": "a034520b-9a94-4e7f-a09c-0321c2add8ad",
   "metadata": {},
   "source": [
    "This finds the root:\n",
    "\\begin{equation}x=0.7537011684061424\\end{equation}"
   ]
  },
  {
   "cell_type": "markdown",
   "id": "a7adae0e-f191-407d-841d-cc1f83a672a0",
   "metadata": {},
   "source": [
    "### 2. Implement **Newton's method**."
   ]
  },
  {
   "cell_type": "markdown",
   "id": "70b76813-339c-4f9b-8fbb-d524b9380942",
   "metadata": {},
   "source": [
    "*Solution:*"
   ]
  },
  {
   "cell_type": "markdown",
   "id": "5d6a14da-6e6b-49cd-ba8f-97644894a79a",
   "metadata": {},
   "source": [
    "We implement Newton's method in the following function:"
   ]
  },
  {
   "cell_type": "code",
   "execution_count": 5,
   "id": "5e8a81a6-7c45-4283-86fd-b69ffb101a63",
   "metadata": {},
   "outputs": [],
   "source": [
    "def newton(f, df, x1, e1, e2, print_output=True):\n",
    "    \"\"\"\n",
    "    Newton's method for root finding.\n",
    "\n",
    "    Parameters:\n",
    "    f: function whose roots we want to find.\n",
    "    df: derivative of f.\n",
    "    x1: initial estimate of the root.\n",
    "    e1: tolerance in the difference of two consecutive estimates (estimated error).\n",
    "    e2: tolerance in f(x).\n",
    "\n",
    "    Returns:\n",
    "    float\n",
    "        the value obtained for the root of f.\n",
    "    \"\"\"\n",
    "    f1 = f(x1)\n",
    "    df1 = df(x1)\n",
    "    if (f1 != 0) and (df1 != 0):\n",
    "        n = 1\n",
    "        while True:\n",
    "            x2 = x1\n",
    "            f2 = f1\n",
    "            x1 = x1 - f1/df1\n",
    "            f1 = f(x1)\n",
    "            df1 = df(x1)\n",
    "            estim_err = abs(x2 - x1)\n",
    "            if print_output:\n",
    "                print(f'Iter {n}, x={x1}, f(x)={f1}, estimated_error={estim_err}')\n",
    "            if (estim_err < e1) or (abs(f2) < e2):\n",
    "                break\n",
    "            n += 1\n",
    "    return x1"
   ]
  },
  {
   "cell_type": "markdown",
   "id": "ac741207-73ef-4527-9b45-abae7a46fcea",
   "metadata": {},
   "source": [
    "The derivative of $f(x) = e^{\\sqrt{5}x}-13.5\\cos(0.1x)+25x^4$ is\n",
    "\\begin{equation}\n",
    "    f'(x) = \\sqrt{5}e^{\\sqrt{5}x} + 1.35\\sin(0.1x) + 100x^3\n",
    "\\end{equation}"
   ]
  },
  {
   "cell_type": "code",
   "execution_count": 6,
   "id": "5869b17f-c4e4-4a0d-bed6-47390ab26154",
   "metadata": {},
   "outputs": [],
   "source": [
    "df = lambda x : np.sqrt(5)*np.exp(np.sqrt(5)*x) + 1.35*np.sin(0.1*x) + 100*x**3"
   ]
  },
  {
   "cell_type": "markdown",
   "id": "a17bc879-63b4-4702-ad65-6a47c6de8e02",
   "metadata": {},
   "source": [
    "We apply the algorithm to the specified function, considering initial value $x_1=1$, and tolerances of $10^{-12}$:"
   ]
  },
  {
   "cell_type": "code",
   "execution_count": 7,
   "id": "4cbd38c1-9df1-4190-8f0c-d9fbacc62098",
   "metadata": {},
   "outputs": [
    {
     "name": "stdout",
     "output_type": "stream",
     "text": [
      "Iter 1, x=5.590169943749474, f(x)=292739.9040332564, estimated_error=5.590169943749474\n",
      "Iter 2, x=5.116089862498731, f(x)=110075.6898280736, estimated_error=0.47408008125074286\n",
      "Iter 3, x=4.618587494403567, f(x)=41924.443763506824, estimated_error=0.497502368095164\n",
      "Iter 4, x=4.08239281758569, f(x)=16145.703566503737, estimated_error=0.5361946768178765\n",
      "Iter 5, x=3.493304298947067, f(x)=6178.505294930895, estimated_error=0.5890885186386234\n",
      "Iter 6, x=2.8617221520103433, f(x)=2264.974472357501, estimated_error=0.6315821469367235\n",
      "Iter 7, x=2.2476422601329893, f(x)=777.1851906603354, estimated_error=0.614079891877354\n",
      "Iter 8, x=1.7212185783857166, f(x)=253.05838224460678, estimated_error=0.5264236817472727\n",
      "Iter 9, x=1.309813745297522, f(x)=78.90453587274006, estimated_error=0.41140483308819453\n",
      "Iter 10, x=1.013977507951039, f(x)=22.650191338903568, estimated_error=0.2958362373464831\n",
      "Iter 11, x=0.8341780056713853, f(x)=5.109961449013883, estimated_error=0.17979950227965358\n",
      "Iter 12, x=0.7637918354241989, f(x)=0.5649154393446878, estimated_error=0.07038617024718641\n",
      "Iter 13, x=0.7538806948798693, f(x)=0.009873305205697847, estimated_error=0.009911140544329622\n",
      "Iter 14, x=0.7537012262916166, f(x)=3.1820321968467624e-06, estimated_error=0.00017946858825268475\n",
      "Iter 15, x=0.7537011684140242, f(x)=3.3217872896784684e-13, estimated_error=5.7877592385402465e-08\n",
      "Iter 16, x=0.7537011684140182, f(x)=1.7763568394002505e-15, estimated_error=5.995204332975845e-15\n"
     ]
    },
    {
     "data": {
      "text/plain": [
       "0.7537011684140182"
      ]
     },
     "execution_count": 7,
     "metadata": {},
     "output_type": "execute_result"
    }
   ],
   "source": [
    "newton(f, df, 0, 1e-9, 1e-9)"
   ]
  },
  {
   "cell_type": "markdown",
   "id": "b8c7e319-b80d-4d31-ace3-8ae269a0dd84",
   "metadata": {},
   "source": [
    "This finds the root:\n",
    "\\begin{equation}x=0.7537011684140182\\end{equation}"
   ]
  },
  {
   "cell_type": "markdown",
   "id": "6dbb6721-6dc0-46c8-aa83-9a6ddac327c4",
   "metadata": {},
   "source": [
    "### 3. Examine the convergence of the two methods."
   ]
  },
  {
   "cell_type": "markdown",
   "id": "514afae1-49b2-4df8-8e36-93fac55c6433",
   "metadata": {},
   "source": [
    "*Solution:*"
   ]
  },
  {
   "cell_type": "markdown",
   "id": "1a55fdf8-f923-4554-9d03-8b5c1e566458",
   "metadata": {},
   "source": [
    "First, we note that with the specified initial guesses, both methods converge to the same root, and give the same numerical value for it up to the specified tolerance.\n",
    "\n",
    "\\begin{align}\n",
    "    x_{LinearInterp} &= 0.7537011684061424 \\\\\n",
    "    x_{Newton} &= 0.7537011684140182\n",
    "\\end{align}\n",
    "\n",
    "We also note that, as expected, Newthon's method converges faster (16 iterations) compared to the linear interpolation method (25 iterations), even considering that in this case Newthon's method finds a poor estimate on the first iteration ($x = 5.590169943749474$) compared to the linear interpolation method ($x=0.3739837427256477$)."
   ]
  },
  {
   "cell_type": "markdown",
   "id": "0b2e5fd0-f896-4fc9-b3ab-c640d68203d0",
   "metadata": {},
   "source": [
    "### 4. Explore the robustness of the methods with varying initial guesses and tolerances. What happens when you specify a tolerance below machine precision?"
   ]
  },
  {
   "cell_type": "markdown",
   "id": "1a412191-2e33-4689-822f-7a4c79ec642b",
   "metadata": {},
   "source": [
    "*Solution:*"
   ]
  },
  {
   "cell_type": "markdown",
   "id": "2f04a3eb-0734-46d6-beb2-007a0d23b2af",
   "metadata": {},
   "source": [
    "Using a different initial guesses $x_2 = 2$ for the linear interpolation mehtod we find:"
   ]
  },
  {
   "cell_type": "code",
   "execution_count": 8,
   "id": "015f129b-d3ca-4a58-956d-0522177e8f7b",
   "metadata": {},
   "outputs": [
    {
     "name": "stdout",
     "output_type": "stream",
     "text": [
      "Iter 1, x=0.05135446226866991, f(x)=-12.377963047096442\n",
      "Iter 2, x=0.10091421052028848, f(x)=-12.243581638106665\n",
      "Iter 3, x=0.14870234296226492, f(x)=-12.091821682156388\n",
      "Iter 4, x=0.1947248697384658, f(x)=-11.915887630694222\n",
      "Iter 5, x=0.23896632316556898, f(x)=-11.708291219566002\n",
      "Iter 6, x=0.2813897969892818, f(x)=-11.461796327307013\n",
      "Iter 7, x=0.32194022473525163, f(x)=-11.17025758748534\n",
      "Iter 8, x=0.36054994929427964, f(x)=-10.829336537676488\n",
      "Iter 9, x=0.39714574631544197, f(x)=-10.437054263106248\n",
      "Iter 10, x=0.4316565008937976, f(x)=-9.994130437582344\n",
      "Iter 11, x=0.464020761131966, f(x)=-9.504068091977585\n",
      "Iter 12, x=0.49419345220427724, f(x)=-8.972969382553918\n",
      "Iter 13, x=0.5221511578002522, f(x)=-8.409103464605398\n",
      "Iter 14, x=0.5478955636935441, f(x)=-7.822283618843262\n",
      "Iter 15, x=0.5714548887063795, f(x)=-7.2231372488871175\n",
      "Iter 16, x=0.5928833649631735, f(x)=-6.622362579940467\n",
      "Iter 17, x=0.612259033213332, f(x)=-6.030058257670743\n",
      "Iter 18, x=0.6296802605278049, f(x)=-5.45519009718749\n",
      "Iter 19, x=0.6452614533761842, f(x)=-4.905229776376635\n",
      "Iter 20, x=0.6591284325572666, f(x)=-4.385970761023666\n",
      "Iter 21, x=0.6714138741284639, f(x)=-3.901503007333133\n",
      "Iter 22, x=0.6822531249681019, f(x)=-3.4543130165364424\n",
      "Iter 23, x=0.691780595223543, f(x)=-3.0454698437163517\n",
      "Iter 24, x=0.7001268302280645, f(x)=-2.674858970200452\n",
      "Iter 25, x=0.707416282483762, f(x)=-2.3414319509400743\n",
      "Iter 26, x=0.7137657446216372, f(x)=-2.0434478949052197\n",
      "Iter 27, x=0.7192833666141882, f(x)=-1.7786911447813116\n",
      "Iter 28, x=0.7240681616982367, f(x)=-1.5446567512797262\n",
      "Iter 29, x=0.7282099009355325, f(x)=-1.3387009187273566\n",
      "Iter 30, x=0.7317893014793149, f(x)=-1.1581574524243958\n",
      "Iter 31, x=0.7348784244306723, f(x)=-1.0004235730972812\n",
      "Iter 32, x=0.7375412115791316, f(x)=-0.8630196132450001\n",
      "Iter 33, x=0.7398341041835368, f(x)=-0.7436274235814997\n",
      "Iter 34, x=0.7418066999255866, f(x)=-0.6401121001956236\n",
      "Iter 35, x=0.7435024155454462, f(x)=-0.5505311317326926\n",
      "Iter 36, x=0.7449591321695501, f(x)=-0.4731344289817425\n",
      "Iter 37, x=0.7462098079675128, f(x)=-0.4063580456466882\n",
      "Iter 38, x=0.747283048689823, f(x)=-0.34881379221977493\n",
      "Iter 39, x=0.7482036310778044, f(x)=-0.2992764160947159\n",
      "Iter 40, x=0.7489929773601174, f(x)=-0.2566695807538881\n",
      "Iter 41, x=0.7496695813026018, f(x)=-0.22005152293104224\n",
      "Iter 42, x=0.7502493877795628, f(x)=-0.1886009903697632\n",
      "Iter 43, x=0.7507461287696882, f(x)=-0.16160385267728028\n",
      "Iter 44, x=0.7511716191991198, f(x)=-0.13844062188336004\n",
      "Iter 45, x=0.7515360162767619, f(x)=-0.1185750065532929\n",
      "Iter 46, x=0.751848045984312, f(x)=-0.10154354400285825\n",
      "Iter 47, x=0.7521152002648932, f(x)=-0.08694630125673086\n",
      "Iter 48, x=0.752343908250501, f(x)=-0.07443860037353467\n",
      "Iter 49, x=0.7525396846166039, f(x)=-0.06372370250753967\n",
      "Iter 50, x=0.7527072578780987, f(x)=-0.05454637364303139\n",
      "Iter 51, x=0.752850681162184, f(x)=-0.04668725033711674\n",
      "Iter 52, x=0.7529734277223228, f(x)=-0.03995792381810581\n",
      "Iter 53, x=0.7530784732006433, f(x)=-0.034196663784300085\n",
      "Iter 54, x=0.7531683664080804, f(x)=-0.029264708062767042\n",
      "Iter 55, x=0.7532452901743021, f(x)=-0.025043050093147556\n",
      "Iter 56, x=0.7533111136235064, f(x)=-0.021429662429007124\n",
      "Iter 57, x=0.7533674370570975, f(x)=-0.018337100713939236\n",
      "Iter 58, x=0.7534156304689408, f(x)=-0.015690438647443017\n",
      "Iter 59, x=0.7534568665819874, f(x)=-0.013425490153593955\n",
      "Iter 60, x=0.7534921491749351, f(x)=-0.011487280222741703\n",
      "Iter 61, x=0.7535223373626194, f(x)=-0.009828730676542108\n",
      "Iter 62, x=0.7535481664024148, f(x)=-0.008409531403671622\n",
      "Iter 63, x=0.753570265519522, f(x)=-0.007195171443692416\n",
      "Iter 64, x=0.7535891731752116, f(x)=-0.00615610768598529\n",
      "Iter 65, x=0.7536053501426014, f(x)=-0.005267051933122602\n",
      "Iter 66, x=0.7536191907031558, f(x)=-0.004506359691365702\n",
      "Iter 67, x=0.7536310322328035, f(x)=-0.0038555063308027826\n",
      "Iter 68, x=0.7536411634084177, f(x)=-0.003298638241524543\n",
      "Iter 69, x=0.7536498312325712, f(x)=-0.00282218833343606\n",
      "Iter 70, x=0.7536572470462679, f(x)=-0.002414546717426802\n",
      "Iter 71, x=0.7536635916750989, f(x)=-0.0020657786940301293\n",
      "Iter 72, x=0.7536690198334703, f(x)=-0.0017673832865430228\n",
      "Iter 73, x=0.7536736638936798, f(x)=-0.0015120865140048068\n",
      "Iter 74, x=0.7536776371113063, f(x)=-0.001293664423529961\n",
      "Iter 75, x=0.7536810363852393, f(x)=-0.0011067916111500153\n",
      "Iter 76, x=0.753683944619419, f(x)=-0.000946911569418063\n",
      "Iter 77, x=0.7536864327437109, f(x)=-0.0008101257236461379\n",
      "Iter 78, x=0.7536885614430686, f(x)=-0.0006930984682487207\n",
      "Iter 79, x=0.75369038263707, f(x)=-0.0005929758994884793\n",
      "Iter 80, x=0.7536919407458387, f(x)=-0.0005073162722126767\n",
      "Iter 81, x=0.7536932737731801, f(x)=-0.0004340304910428472\n",
      "Iter 82, x=0.7536944142333108, f(x)=-0.0003713311897168836\n",
      "Iter 83, x=0.7536953899437606, f(x)=-0.0003176891601501808\n",
      "Iter 84, x=0.7536962247037653, f(x)=-0.00027179607117489013\n",
      "Iter 85, x=0.753696938874685, f(x)=-0.00023253256959776536\n",
      "Iter 86, x=0.7536975498765917, f(x)=-0.0001989409870066794\n",
      "Iter 87, x=0.7536980726131337, f(x)=-0.0001702019875082783\n",
      "Iter 88, x=0.753698519835035, f(x)=-0.00014561458762862856\n",
      "Iter 89, x=0.7536989024510885, f(x)=-0.00012457906162843813\n",
      "Iter 90, x=0.7536992297942287, f(x)=-0.00010658231566118559\n",
      "Iter 91, x=0.7536995098491721, f(x)=-9.118537418295602e-05\n",
      "Iter 92, x=0.7536997494471744, f(x)=-7.801267378404475e-05\n",
      "Iter 93, x=0.7536999544326546, f(x)=-6.674290339603317e-05\n",
      "Iter 94, x=0.7537001298057513, f(x)=-5.7101167397988206e-05\n",
      "Iter 95, x=0.7537002798442847, f(x)=-4.885228087481153e-05\n",
      "Iter 96, x=0.753700408208102, f(x)=-4.179503319257094e-05\n",
      "Iter 97, x=0.7537005180283487, f(x)=-3.5757280265613645e-05\n",
      "Iter 98, x=0.7537006119838439, f(x)=-3.059174576591772e-05\n",
      "Iter 99, x=0.7537006923664238, f(x)=-2.6172428734483333e-05\n",
      "Iter 100, x=0.7537007611368445, f(x)=-2.239153027261409e-05\n",
      "Iter 101, x=0.7537008199726101, f(x)=-1.9156824064836542e-05\n",
      "Iter 102, x=0.7537008703088914, f(x)=-1.6389406797046036e-05\n",
      "Iter 103, x=0.7537009133735331, f(x)=-1.4021773557360007e-05\n",
      "Iter 104, x=0.7537009502170042, f(x)=-1.1996171203065842e-05\n",
      "Iter 105, x=0.7537009817380222, f(x)=-1.0263189640369319e-05\n",
      "Iter 106, x=0.7537010087054747, f(x)=-8.780556601806211e-06\n",
      "Iter 107, x=0.7537010317771753, f(x)=-7.512106469320656e-06\n",
      "Iter 108, x=0.753701051515909, f(x)=-6.426898153222282e-06\n",
      "Iter 109, x=0.7537010684031602, f(x)=-5.498460350139567e-06\n",
      "Iter 110, x=0.7537010828508577, f(x)=-4.704145798228865e-06\n",
      "Iter 111, x=0.7537010952114225, f(x)=-4.024578903027987e-06\n",
      "Iter 112, x=0.7537011057863643, f(x)=-3.4431830862047264e-06\n",
      "Iter 113, x=0.7537011148336363, f(x)=-2.9457764458840074e-06\n",
      "Iter 114, x=0.7537011225739279, f(x)=-2.520225789837127e-06\n",
      "Iter 115, x=0.7537011291960467, f(x)=-2.1561507317358064e-06\n",
      "Iter 116, x=0.7537011348615259, f(x)=-1.8446704093122435e-06\n",
      "Iter 117, x=0.7537011397085627, f(x)=-1.5781869322495368e-06\n",
      "Iter 118, x=0.7537011438553902, f(x)=-1.350199999805568e-06\n",
      "Iter 119, x=0.7537011474031616, f(x)=-1.1551483556360154e-06\n",
      "Iter 120, x=0.7537011504384175, f(x)=-9.88274118540744e-07\n",
      "Iter 121, x=0.753701153035196, f(x)=-8.455067597168409e-07\n",
      "Iter 122, x=0.7537011552568407, f(x)=-7.233637617787281e-07\n",
      "Iter 123, x=0.7537011571575436, f(x)=-6.188656946903848e-07\n",
      "Iter 124, x=0.7537011587836686, f(x)=-5.294635503361178e-07\n",
      "Iter 125, x=0.7537011601748815, f(x)=-4.529765540439712e-07\n",
      "Iter 126, x=0.7537011613651179, f(x)=-3.875389733565271e-07\n",
      "Iter 127, x=0.7537011623834113, f(x)=-3.3155458289968465e-07\n",
      "Iter 128, x=0.7537011632546007, f(x)=-2.8365777815508864e-07\n",
      "Iter 129, x=0.7537011639999369, f(x)=-2.42680199491474e-07\n",
      "Iter 130, x=0.7537011646376008, f(x)=-2.0762230334980813e-07\n",
      "Iter 131, x=0.7537011651831471, f(x)=-1.7762890713868273e-07\n",
      "Iter 132, x=0.7537011656498829, f(x)=-1.5196841118836346e-07\n",
      "Iter 133, x=0.7537011660491937, f(x)=-1.3001484511221406e-07\n",
      "Iter 134, x=0.7537011663908193, f(x)=-1.1123272969371101e-07\n",
      "Iter 135, x=0.7537011666830933, f(x)=-9.516390520047935e-08\n",
      "Iter 136, x=0.7537011669331448, f(x)=-8.141640961412122e-08\n",
      "Iter 137, x=0.7537011671470737, f(x)=-6.965489163235361e-08\n",
      "Iter 138, x=0.7537011673300982, f(x)=-5.959245186204498e-08\n",
      "Iter 139, x=0.7537011674866827, f(x)=-5.098364930233856e-08\n",
      "Iter 140, x=0.7537011676206469, f(x)=-4.361847771860994e-08\n",
      "Iter 141, x=0.7537011677352583, f(x)=-3.731729947276108e-08\n",
      "Iter 142, x=0.753701167833313, f(x)=-3.192638509119661e-08\n",
      "Iter 143, x=0.7537011679172025, f(x)=-2.7314252193377797e-08\n",
      "Iter 144, x=0.7537011679889731, f(x)=-2.336840232430859e-08\n",
      "Iter 145, x=0.7537011680503756, f(x)=-1.9992578259575566e-08\n",
      "Iter 146, x=0.7537011681029078, f(x)=-1.710442809610413e-08\n",
      "Iter 147, x=0.7537011681478509, f(x)=-1.4633513956141542e-08\n",
      "Iter 148, x=0.753701168186302, f(x)=-1.2519530301347004e-08\n",
      "Iter 149, x=0.7537011682191981, f(x)=-1.0710945019809515e-08\n",
      "Iter 150, x=0.753701168247342, f(x)=-9.163631631281532e-09\n",
      "Iter 151, x=0.7537011682714201, f(x)=-7.839851434709999e-09\n",
      "Iter 152, x=0.7537011682920198, f(x)=-6.7073049336840995e-09\n",
      "Iter 153, x=0.753701168309644, f(x)=-5.738355568496445e-09\n",
      "Iter 154, x=0.7537011683247219, f(x)=-4.909390227680888e-09\n",
      "Iter 155, x=0.7537011683376218, f(x)=-4.20017265412298e-09\n",
      "Iter 156, x=0.7537011683486581, f(x)=-3.593411790348e-09\n",
      "Iter 157, x=0.7537011683581001, f(x)=-3.0743017020995467e-09\n",
      "Iter 158, x=0.7537011683661783, f(x)=-2.6301751887558567e-09\n",
      "Iter 159, x=0.7537011683730894, f(x)=-2.250207131737625e-09\n",
      "Iter 160, x=0.753701168379002, f(x)=-1.9251409355547366e-09\n",
      "Iter 161, x=0.7537011683840604, f(x)=-1.6470398378487516e-09\n",
      "Iter 162, x=0.7537011683883883, f(x)=-1.4090950628542487e-09\n",
      "Iter 163, x=0.7537011683920907, f(x)=-1.2055476616978922e-09\n",
      "Iter 164, x=0.7537011683952584, f(x)=-1.0313900844494128e-09\n",
      "Iter 165, x=0.7537011683979684, f(x)=-8.82394601831038e-10\n"
     ]
    },
    {
     "data": {
      "text/plain": [
       "0.7537011683979684"
      ]
     },
     "execution_count": 8,
     "metadata": {},
     "output_type": "execute_result"
    }
   ],
   "source": [
    "linear_interpolation(f, 0, 2, 1e-9)"
   ]
  },
  {
   "cell_type": "markdown",
   "id": "8fd58874-f1e5-458d-8c9e-d2f6351d983c",
   "metadata": {},
   "source": [
    "This shows a slower convergence compared to the previous choice of initial guesses, needing now 165 iterations. This suggests that an appropriate choice of initial guesses for the linear interpolaton method can greatly improve the convergence speed of the algorithm."
   ]
  },
  {
   "cell_type": "markdown",
   "id": "0dcc8d18-da0f-485e-972b-a6272b825128",
   "metadata": {},
   "source": [
    "For Newton's method, using a different initial guesses $x_1 = -0.2$ we find:"
   ]
  },
  {
   "cell_type": "code",
   "execution_count": 9,
   "id": "a81c1ada-b199-43ec-aa7d-68a223cab689",
   "metadata": {},
   "outputs": [
    {
     "name": "stdout",
     "output_type": "stream",
     "text": [
      "Iter 1, x=21.06533299040006, f(x)=2.8628415350640778e+20, estimated_error=21.265332990400058\n",
      "Iter 2, x=20.618119394900095, f(x)=1.0531805440817793e+20, estimated_error=0.44721359549996365\n",
      "Iter 3, x=20.17090579940012, f(x)=3.874434700094514e+19, estimated_error=0.4472135954999743\n",
      "Iter 4, x=19.723692203900118, f(x)=1.425324872326099e+19, estimated_error=0.4472135955000027\n",
      "Iter 5, x=19.27647860840005, f(x)=5.243477175191584e+18, estimated_error=0.4472135955000667\n",
      "Iter 6, x=18.829265012899825, f(x)=1.928967453005414e+18, estimated_error=0.44721359550022655\n",
      "Iter 7, x=18.382051417399207, f(x)=7.096274686501816e+17, estimated_error=0.44721359550061734\n",
      "Iter 8, x=17.934837821897627, f(x)=2.6105735660752454e+17, estimated_error=0.44721359550158013\n",
      "Iter 9, x=17.48762422639368, f(x)=9.603763446300021e+16, estimated_error=0.44721359550394624\n",
      "Iter 10, x=17.040410630883947, f(x)=3.533027129815114e+16, estimated_error=0.4472135955097336\n",
      "Iter 11, x=16.59319703536011, f(x)=1.2997280462025024e+16, estimated_error=0.4472135955238379\n",
      "Iter 12, x=16.14598343980197, f(x)=4781432273498043.0, estimated_error=0.44721359555813933\n",
      "Iter 13, x=15.698769844160706, f(x)=1758990633111191.5, estimated_error=0.44721359564126395\n",
      "Iter 14, x=15.25155624831868, f(x)=647096491433862.8, estimated_error=0.447213595842026\n",
      "Iter 15, x=14.80434265199352, f(x)=238053495916679.38, estimated_error=0.44721359632515956\n",
      "Iter 16, x=14.357129054510175, f(x)=87574987278774.45, estimated_error=0.447213597483346\n",
      "Iter 17, x=13.909915454261762, f(x)=32217037583786.965, estimated_error=0.4472136002484124\n",
      "Iter 18, x=13.46270184744088, f(x)=11851985959428.012, estimated_error=0.44721360682088296\n",
      "Iter 19, x=13.015488225070628, f(x)=4360102124869.5605, estimated_error=0.447213622370251\n",
      "Iter 20, x=12.56827456609805, f(x)=1603992065358.444, estimated_error=0.4472136589725775\n",
      "Iter 21, x=12.121060821431536, f(x)=590075817982.9242, estimated_error=0.44721374466651476\n",
      "Iter 22, x=11.673846877307414, f(x)=217076858718.773, estimated_error=0.4472139441241225\n",
      "Iter 23, x=11.226632471865086, f(x)=79858195172.84523, estimated_error=0.4472144054423275\n",
      "Iter 24, x=10.779417006771187, f(x)=29378256832.134098, estimated_error=0.4472154650938993\n",
      "Iter 25, x=10.33219912583378, f(x)=10807713877.810745, estimated_error=0.4472178809374068\n",
      "Iter 26, x=9.884975782162158, f(x)=3975982955.4728746, estimated_error=0.447223343671622\n",
      "Iter 27, x=9.437740197024512, f(x)=1462720998.0970862, estimated_error=0.44723558513764594\n",
      "Iter 28, x=8.990477451838581, f(x)=538136216.7161986, estimated_error=0.447262745185931\n",
      "Iter 29, x=8.543155109266138, f(x)=197994211.63174748, estimated_error=0.4473223425724431\n",
      "Iter 30, x=8.095703594114658, f(x)=72857677.48144278, estimated_error=0.44745151515147974\n",
      "Iter 31, x=7.647975949961141, f(x)=26818115.39274972, estimated_error=0.4477276441535176\n",
      "Iter 32, x=7.1996671537204175, f(x)=9877479.32387987, estimated_error=0.44830879624072306\n",
      "Iter 33, x=6.750156654811818, f(x)=3642418.350942572, estimated_error=0.44951049890859984\n",
      "Iter 34, x=6.298211009188125, f(x)=1346304.5082402546, estimated_error=0.45194564562369255\n",
      "Iter 35, x=5.841445677902628, f(x)=499747.1663574737, estimated_error=0.45676533128549757\n",
      "Iter 36, x=5.375410651159931, f(x)=186868.21920833385, estimated_error=0.4660350267426967\n",
      "Iter 37, x=4.8922165407756, f(x)=70658.23800865636, estimated_error=0.48319411038433113\n",
      "Iter 38, x=4.379125375788395, f(x)=27071.901393330227, estimated_error=0.5130911649872045\n",
      "Iter 39, x=3.8198181183336377, f(x)=10432.285051281997, estimated_error=0.5593072574547575\n",
      "Iter 40, x=3.207162534670097, f(x)=3933.886669058261, estimated_error=0.6126555836635408\n",
      "Iter 41, x=2.573685238638938, f(x)=1399.5763282010453, estimated_error=0.6334772960311588\n",
      "Iter 42, x=1.9932234779235007, f(x)=467.6005456257932, estimated_error=0.5804617607154374\n",
      "Iter 43, x=1.5184888116236266, f(x)=149.4020380498451, estimated_error=0.47473466629987415\n",
      "Iter 44, x=1.1602413228510084, f(x)=45.282691194355294, estimated_error=0.35824748877261814\n",
      "Iter 45, x=0.9171524389114112, f(x)=12.020090346121492, estimated_error=0.24308888393959727\n",
      "Iter 46, x=0.790164466910941, f(x)=2.1402103583909433, estimated_error=0.12698797200047018\n",
      "Iter 47, x=0.7559362990373156, f(x)=0.12337880433851822, estimated_error=0.03422816787362537\n",
      "Iter 48, x=0.7537101055607576, f(x)=0.0004913600954914443, estimated_error=0.002226193476558058\n",
      "Iter 49, x=0.7537011685574976, f(x)=7.888299791147801e-09, estimated_error=8.937003259990028e-06\n",
      "Iter 50, x=0.7537011684140182, f(x)=1.7763568394002505e-15, estimated_error=1.4347933952052472e-10\n"
     ]
    },
    {
     "data": {
      "text/plain": [
       "0.7537011684140182"
      ]
     },
     "execution_count": 9,
     "metadata": {},
     "output_type": "execute_result"
    }
   ],
   "source": [
    "newton(f, df, -0.2, 1e-9, 1e-9)"
   ]
  },
  {
   "cell_type": "markdown",
   "id": "bea3d764-84d3-4fc2-9320-172fe7231446",
   "metadata": {},
   "source": [
    "This also shows an increase in the number of iterations needed (now 50), and the importance of the initial guess. Moreover, for $x_1 = -0.25$ we find:"
   ]
  },
  {
   "cell_type": "code",
   "execution_count": 10,
   "id": "dfd84578-7998-4d02-b50f-ead35af838ad",
   "metadata": {},
   "outputs": [
    {
     "name": "stdout",
     "output_type": "stream",
     "text": [
      "Iter 1, x=-40.61897526083729, f(x)=68054353.39691636, estimated_error=40.36897526083729\n",
      "Iter 2, x=-30.464228597906587, f(x)=21532825.555348348, estimated_error=10.154746662930702\n",
      "Iter 3, x=-22.848167040719918, f(x)=6813119.917207659, estimated_error=7.6160615571866686\n",
      "Iter 4, x=-17.13612275432533, f(x)=2155711.5767904464, estimated_error=5.712044286394587\n",
      "Iter 5, x=-12.852099623591126, f(x)=682077.8093348879, estimated_error=4.284023130734205\n",
      "Iter 6, x=-9.63911223808265, f(x)=215810.54630023538, estimated_error=3.2129873855084767\n",
      "Iter 7, x=-7.229449982716808, f(x)=68280.49414248523, estimated_error=2.4096622553658413\n",
      "Iter 8, x=-5.422398118043635, f(x)=21600.96664291242, estimated_error=1.8070518646731735\n",
      "Iter 9, x=-4.067583084341336, f(x)=6831.2192726799185, estimated_error=1.354815033702299\n",
      "Iter 10, x=-3.052610109494376, f(x)=2157.952943761666, estimated_error=1.0149729748469598\n",
      "Iter 11, x=-2.2940912468147134, f(x)=679.3005818393524, estimated_error=0.7585188626796624\n",
      "Iter 12, x=-1.7315889920320724, f(x)=211.4828341091761, estimated_error=0.562502254782641\n",
      "Iter 13, x=-1.3244102678270093, f(x)=63.58835537770998, estimated_error=0.40717872420506307\n",
      "Iter 14, x=-1.050761804565406, f(x)=17.145808621115528, estimated_error=0.2736484632616034\n",
      "Iter 15, x=-0.9028803149553295, f(x)=3.30127448336013, estimated_error=0.1478814896100764\n",
      "Iter 16, x=-0.8579203186663351, f(x)=0.2399014451398127, estimated_error=0.044959996288994386\n",
      "Iter 17, x=-0.8541082805789092, f(x)=0.0016059319754688772, estimated_error=0.0038120380874259174\n",
      "Iter 18, x=-0.8540824165270371, f(x)=7.349106567744457e-08, estimated_error=2.5864051872104277e-05\n",
      "Iter 19, x=-0.8540824153433315, f(x)=3.552713678800501e-15, estimated_error=1.1837055780006267e-09\n",
      "Iter 20, x=-0.8540824153433314, f(x)=-3.552713678800501e-15, estimated_error=1.1102230246251565e-16\n"
     ]
    },
    {
     "data": {
      "text/plain": [
       "-0.8540824153433314"
      ]
     },
     "execution_count": 10,
     "metadata": {},
     "output_type": "execute_result"
    }
   ],
   "source": [
    "newton(f, df, -0.25, 1e-9, 1e-9)"
   ]
  },
  {
   "cell_type": "markdown",
   "id": "5685766f-4d81-4c55-829b-30347464847c",
   "metadata": {},
   "source": [
    "That is, we now get to a different root at $x = -0.8540824153433314$."
   ]
  },
  {
   "cell_type": "markdown",
   "id": "8a58e366-0ce7-43a1-aa4a-4d6a622c94eb",
   "metadata": {},
   "source": [
    "Now, asking for a smaller tolerance of $10^{-12}$ should make the number of required iterations to increase in both methods:"
   ]
  },
  {
   "cell_type": "code",
   "execution_count": 11,
   "id": "23cb684f-3eda-4ee7-b1e2-f66152970a5b",
   "metadata": {},
   "outputs": [
    {
     "name": "stdout",
     "output_type": "stream",
     "text": [
      "Iter 1, x=0.3739837427256477, f(x)=-10.693808994189293\n",
      "Iter 2, x=0.5857162112832606, f(x)=-6.829469339165751\n",
      "Iter 3, x=0.6876619280272873, f(x)=-3.2240488692420426\n",
      "Iter 4, x=0.7293628890511948, f(x)=-1.2808041299787396\n",
      "Iter 5, x=0.7449736770990931, f(x)=-0.47235958019156676\n",
      "Iter 6, x=0.7506038226106678, f(x)=-0.16934292238400328\n",
      "Iter 7, x=0.7526060492036459, f(x)=-0.06008983642239407\n",
      "Iter 8, x=0.7533144870695382, f(x)=-0.02124445359651972\n",
      "Iter 9, x=0.7535646976013857, f(x)=-0.007501141027564273\n",
      "Iter 10, x=0.7536530120346085, f(x)=-0.0026473434046216937\n",
      "Iter 11, x=0.7536841765007141, f(x)=-0.000934163833862911\n",
      "Iter 12, x=0.7536951729650887, f(x)=-0.00032961810095422095\n",
      "Iter 13, x=0.7536990529874942, f(x)=-0.00011630283934493946\n",
      "Iter 14, x=0.7537004220115646, f(x)=-4.10361395903891e-05\n",
      "Iter 15, x=0.7537009050552546, f(x)=-1.4479100805431244e-05\n",
      "Iter 16, x=0.7537010754912047, f(x)=-5.108769409289948e-06\n",
      "Iter 17, x=0.7537011356273808, f(x)=-1.8025647499086972e-06\n",
      "Iter 18, x=0.7537011568456691, f(x)=-6.36012130073027e-07\n",
      "Iter 19, x=0.753701164332273, f(x)=-2.2440881508600796e-07\n",
      "Iter 20, x=0.7537011669738262, f(x)=-7.917980404670288e-08\n",
      "Iter 21, x=0.7537011679058647, f(x)=-2.793758824282122e-08\n",
      "Iter 22, x=0.7537011682347227, f(x)=-9.857426874759767e-09\n",
      "Iter 23, x=0.7537011683507561, f(x)=-3.4780676116952236e-09\n",
      "Iter 24, x=0.753701168391697, f(x)=-1.2271907934291448e-09\n",
      "Iter 25, x=0.7537011684061424, f(x)=-4.3299941410168685e-10\n",
      "Iter 26, x=0.7537011684112394, f(x)=-1.5277734632945794e-10\n",
      "Iter 27, x=0.7537011684130377, f(x)=-5.39071010052794e-11\n",
      "Iter 28, x=0.7537011684136722, f(x)=-1.9021229036297882e-11\n",
      "Iter 29, x=0.7537011684138961, f(x)=-6.7128524960935465e-12\n",
      "Iter 30, x=0.7537011684139752, f(x)=-2.367883666920534e-12\n",
      "Iter 31, x=0.753701168414003, f(x)=-8.348877145181177e-13\n"
     ]
    },
    {
     "data": {
      "text/plain": [
       "0.753701168414003"
      ]
     },
     "execution_count": 11,
     "metadata": {},
     "output_type": "execute_result"
    }
   ],
   "source": [
    "linear_interpolation(f, 0, 1, 1e-12)"
   ]
  },
  {
   "cell_type": "code",
   "execution_count": 12,
   "id": "84a974b4-ce01-41ee-8a70-2fc122462309",
   "metadata": {},
   "outputs": [
    {
     "name": "stdout",
     "output_type": "stream",
     "text": [
      "Iter 1, x=5.590169943749474, f(x)=292739.9040332564, estimated_error=5.590169943749474\n",
      "Iter 2, x=5.116089862498731, f(x)=110075.6898280736, estimated_error=0.47408008125074286\n",
      "Iter 3, x=4.618587494403567, f(x)=41924.443763506824, estimated_error=0.497502368095164\n",
      "Iter 4, x=4.08239281758569, f(x)=16145.703566503737, estimated_error=0.5361946768178765\n",
      "Iter 5, x=3.493304298947067, f(x)=6178.505294930895, estimated_error=0.5890885186386234\n",
      "Iter 6, x=2.8617221520103433, f(x)=2264.974472357501, estimated_error=0.6315821469367235\n",
      "Iter 7, x=2.2476422601329893, f(x)=777.1851906603354, estimated_error=0.614079891877354\n",
      "Iter 8, x=1.7212185783857166, f(x)=253.05838224460678, estimated_error=0.5264236817472727\n",
      "Iter 9, x=1.309813745297522, f(x)=78.90453587274006, estimated_error=0.41140483308819453\n",
      "Iter 10, x=1.013977507951039, f(x)=22.650191338903568, estimated_error=0.2958362373464831\n",
      "Iter 11, x=0.8341780056713853, f(x)=5.109961449013883, estimated_error=0.17979950227965358\n",
      "Iter 12, x=0.7637918354241989, f(x)=0.5649154393446878, estimated_error=0.07038617024718641\n",
      "Iter 13, x=0.7538806948798693, f(x)=0.009873305205697847, estimated_error=0.009911140544329622\n",
      "Iter 14, x=0.7537012262916166, f(x)=3.1820321968467624e-06, estimated_error=0.00017946858825268475\n",
      "Iter 15, x=0.7537011684140242, f(x)=3.3217872896784684e-13, estimated_error=5.7877592385402465e-08\n",
      "Iter 16, x=0.7537011684140182, f(x)=1.7763568394002505e-15, estimated_error=5.995204332975845e-15\n"
     ]
    },
    {
     "data": {
      "text/plain": [
       "0.7537011684140182"
      ]
     },
     "execution_count": 12,
     "metadata": {},
     "output_type": "execute_result"
    }
   ],
   "source": [
    "newton(f, df, 0, 1e-12, 1e-12)"
   ]
  },
  {
   "cell_type": "markdown",
   "id": "99beaf9d-3f3e-4137-adae-cb439fe5c62a",
   "metadata": {},
   "source": [
    "We see that the increase in the number of iterations is more notorious for the linear interpolation algorithm, percieving here the faster convergence of the Newton's method."
   ]
  },
  {
   "cell_type": "markdown",
   "id": "709cc055-c552-4961-9e78-ff978272bac5",
   "metadata": {},
   "source": [
    "When trying to set for the tolerance a value smaller than the machine's precision, we get an infinite loop in the linear interpolation algorithm:"
   ]
  },
  {
   "cell_type": "code",
   "execution_count": 13,
   "id": "077fba96-a529-4bff-adc2-4be59c01de7d",
   "metadata": {},
   "outputs": [],
   "source": [
    "# Try at your own risk\n",
    "# linear_interpolation(f, 0, 1, 1e-18)"
   ]
  },
  {
   "cell_type": "markdown",
   "id": "ee9e5618-c751-4961-81cf-9bf111841ac3",
   "metadata": {},
   "source": [
    "For the Newton's method, the algorithm finishes without problem:"
   ]
  },
  {
   "cell_type": "code",
   "execution_count": 14,
   "id": "c613a15d-88f6-464b-bcae-7d77e723f073",
   "metadata": {},
   "outputs": [
    {
     "name": "stdout",
     "output_type": "stream",
     "text": [
      "Iter 1, x=5.590169943749474, f(x)=292739.9040332564, estimated_error=5.590169943749474\n",
      "Iter 2, x=5.116089862498731, f(x)=110075.6898280736, estimated_error=0.47408008125074286\n",
      "Iter 3, x=4.618587494403567, f(x)=41924.443763506824, estimated_error=0.497502368095164\n",
      "Iter 4, x=4.08239281758569, f(x)=16145.703566503737, estimated_error=0.5361946768178765\n",
      "Iter 5, x=3.493304298947067, f(x)=6178.505294930895, estimated_error=0.5890885186386234\n",
      "Iter 6, x=2.8617221520103433, f(x)=2264.974472357501, estimated_error=0.6315821469367235\n",
      "Iter 7, x=2.2476422601329893, f(x)=777.1851906603354, estimated_error=0.614079891877354\n",
      "Iter 8, x=1.7212185783857166, f(x)=253.05838224460678, estimated_error=0.5264236817472727\n",
      "Iter 9, x=1.309813745297522, f(x)=78.90453587274006, estimated_error=0.41140483308819453\n",
      "Iter 10, x=1.013977507951039, f(x)=22.650191338903568, estimated_error=0.2958362373464831\n",
      "Iter 11, x=0.8341780056713853, f(x)=5.109961449013883, estimated_error=0.17979950227965358\n",
      "Iter 12, x=0.7637918354241989, f(x)=0.5649154393446878, estimated_error=0.07038617024718641\n",
      "Iter 13, x=0.7538806948798693, f(x)=0.009873305205697847, estimated_error=0.009911140544329622\n",
      "Iter 14, x=0.7537012262916166, f(x)=3.1820321968467624e-06, estimated_error=0.00017946858825268475\n",
      "Iter 15, x=0.7537011684140242, f(x)=3.3217872896784684e-13, estimated_error=5.7877592385402465e-08\n",
      "Iter 16, x=0.7537011684140182, f(x)=1.7763568394002505e-15, estimated_error=5.995204332975845e-15\n",
      "Iter 17, x=0.7537011684140182, f(x)=1.7763568394002505e-15, estimated_error=0.0\n"
     ]
    },
    {
     "data": {
      "text/plain": [
       "0.7537011684140182"
      ]
     },
     "execution_count": 14,
     "metadata": {},
     "output_type": "execute_result"
    }
   ],
   "source": [
    "newton(f, df, 0, 1e-50, 1e-323)"
   ]
  },
  {
   "cell_type": "markdown",
   "id": "98605f1f-bbb5-4354-a3b4-ce07df476000",
   "metadata": {},
   "source": [
    "That the linear interpolation algorithm loops infinitely while the Newton's method halts may be explained by the different conditions imposed on the code for breaking out of the loop.\n",
    "\n",
    "- Linear interpolation: UNTIL $|f(x_3)|<\\mathcal{E}$\n",
    "- Newton's method: UNTIL $(|x_1-x_2| < \\mathcal{E})$ OR $(f(x_2)<\\mathcal{E}')$\n",
    "\n",
    "Having the extra condition on the Newton's method $(|x_1-x_2| < \\mathcal{E})$ makes it halt when the machine's precision is reached, since then $|x_1-x_2| = 0$."
   ]
  },
  {
   "cell_type": "raw",
   "id": "91bd0045-861c-4dda-be69-f9c80d38b78a",
   "metadata": {},
   "source": []
  },
  {
   "cell_type": "markdown",
   "id": "d894d6e9-9210-44fc-bbe6-9892f040fd2d",
   "metadata": {},
   "source": [
    "## Problem II"
   ]
  },
  {
   "cell_type": "markdown",
   "id": "ebc1ed38-3446-4b6c-8898-d777f0fb21d3",
   "metadata": {},
   "source": [
    "Find the eigenvalues $\\lambda$ of the differential equation $y'' + \\lambda^2 y = 0$ with the following boundary conditions $y(0) = 0$ and $y(1) = y'(1)$."
   ]
  },
  {
   "cell_type": "markdown",
   "id": "5345df7a-a13d-46a0-b7f1-00b2686a9ec2",
   "metadata": {},
   "source": [
    "*Solution:*"
   ]
  },
  {
   "cell_type": "markdown",
   "id": "f8050255-237b-4c01-abf6-1594c35fe3ca",
   "metadata": {},
   "source": [
    "The differential equation considered is the wave equation. Hence, assuming $\\lambda^2 > 0$, we propose solutions of the form\n",
    "\\begin{equation}\n",
    "    y(x) = A\\cos(\\lambda x) + B\\sin(\\lambda x), \\qquad A, B \\in \\mathbb{R}.\n",
    "\\end{equation}\n",
    "\n",
    "Imposing the first boundary condition $y(0)=0$ we obtain:\n",
    "\\begin{equation}\n",
    "    A = 0.\n",
    "\\end{equation}\n",
    "\n",
    "Then\n",
    "\\begin{equation}\n",
    "    y(x) = B\\sin(\\lambda x).\n",
    "\\end{equation}\n",
    "\n",
    "Moreover, $y'(x) = B\\lambda\\cos(\\lambda x)$, and using the second boundary condition $y(1) = y'(1)$ we obtain:\n",
    "\\begin{equation}\n",
    "    B\\sin(\\lambda) = B\\lambda\\cos(\\lambda),\n",
    "\\end{equation}\n",
    "so the eigenvalues $\\lambda$ must satisfy the equation\n",
    "\\begin{equation}\n",
    "    \\sin(\\lambda) - \\lambda\\cos(\\lambda) = 0.\n",
    "\\end{equation}\n",
    "\n",
    "We will use Newton's method to find the eigenvalues numerically, as the roots of the function\n",
    "\\begin{equation}\n",
    "    g(x) = \\sin(\\lambda) - \\lambda\\cos(\\lambda).\n",
    "\\end{equation}"
   ]
  },
  {
   "cell_type": "code",
   "execution_count": 15,
   "id": "17f4b76d-b72d-480d-8f20-3169867c8f80",
   "metadata": {},
   "outputs": [
    {
     "data": {
      "image/png": "[encoded data removed]",
      "text/plain": [
       "<Figure size 640x480 with 1 Axes>"
      ]
     },
     "metadata": {},
     "output_type": "display_data"
    }
   ],
   "source": [
    "g = lambda x : np.sin(x) - x*np.cos(x)\n",
    "x = np.linspace(-20, 20, num=200)\n",
    "plt.plot(x, g(x))\n",
    "plt.grid()\n",
    "plt.show()"
   ]
  },
  {
   "cell_type": "markdown",
   "id": "7c09299e-5342-45ef-872f-a9a9b373d03d",
   "metadata": {},
   "source": [
    "Since $g$ is an odd function, if $\\lambda_n$ is a root then $-\\lambda_n$ is also a root. Reasonable initial guesses are given by\n",
    "\\begin{equation}\n",
    "    \\lambda_{1,n} = \\left(n + \\frac{1}{2}\\right)\\pi,\n",
    "\\end{equation}\n",
    "since those are the points at which $\\lambda\\cos(\\lambda)=0$.\n",
    "\n",
    "In Newton's method we will also need the derivative\n",
    "\\begin{equation}\n",
    "    g'(\\lambda) = \\lambda\\sin(\\lambda).\n",
    "\\end{equation}"
   ]
  },
  {
   "cell_type": "code",
   "execution_count": 16,
   "id": "04fa9681-4f50-4772-a19c-3ff510cd3bab",
   "metadata": {},
   "outputs": [],
   "source": [
    "dg = lambda x : x * np.sin(x)"
   ]
  },
  {
   "cell_type": "markdown",
   "id": "781e4a5a-dfcd-4885-a80a-b67e08b1f85d",
   "metadata": {},
   "source": [
    "We then write a function to print the first $n$ roots of $g$, which correspond to the first $n$ eigenvalues of the differential equation with the specified boundary conditions:"
   ]
  },
  {
   "cell_type": "code",
   "execution_count": 17,
   "id": "42523d98-99e4-4a1b-8786-54e998e6e791",
   "metadata": {},
   "outputs": [],
   "source": [
    "def find_eigenvalues(n, e1, e2):\n",
    "    for i in range(n):\n",
    "        x1 = (i + 0.5)*np.pi\n",
    "        x = newton(g, dg, x1, e1, e2, print_output=False)\n",
    "        print(f\"lambda_{i} = ±{x}\")"
   ]
  },
  {
   "cell_type": "markdown",
   "id": "5c809003-2f12-4a46-a7a2-9187fb585260",
   "metadata": {},
   "source": [
    "and use it to find the first 10 eigenvalues, with a tolerance of $10^{-9}$:"
   ]
  },
  {
   "cell_type": "code",
   "execution_count": 18,
   "id": "a98d18b8-be50-4ccf-91ab-7283f410674c",
   "metadata": {},
   "outputs": [
    {
     "name": "stdout",
     "output_type": "stream",
     "text": [
      "lambda_0 = ±0.0008979445461104295\n",
      "lambda_1 = ±4.493409457909064\n",
      "lambda_2 = ±7.725251836937707\n",
      "lambda_3 = ±10.904121659428899\n",
      "lambda_4 = ±14.066193912831473\n",
      "lambda_5 = ±17.22075527193077\n",
      "lambda_6 = ±20.37130295928756\n",
      "lambda_7 = ±23.519452498689006\n",
      "lambda_8 = ±26.666054258812675\n",
      "lambda_9 = ±29.81159879089296\n"
     ]
    }
   ],
   "source": [
    "find_eigenvalues(10, 1e-9, 1e-9)"
   ]
  },
  {
   "cell_type": "raw",
   "id": "e75a7f17-c756-4eed-bbb3-544482fc1b86",
   "metadata": {},
   "source": []
  },
  {
   "cell_type": "markdown",
   "id": "4fe05e19-1903-4674-a618-6390553ebc58",
   "metadata": {},
   "source": [
    "## Problem III"
   ]
  },
  {
   "cell_type": "markdown",
   "id": "733fc0d8-5b0e-47c5-b9c2-78c0a710187c",
   "metadata": {},
   "source": [
    "We first consider the following nonlinear system of equations\n",
    "\\begin{align}\n",
    "    f_1(x,y) &= xy - 0.1 \\\\\n",
    "    f_2(x,y) &= x^2 + 3y^2 - 2\n",
    "\\end{align}"
   ]
  },
  {
   "cell_type": "markdown",
   "id": "ba357058-ca8b-4946-892d-23d7e1f7e8a2",
   "metadata": {},
   "source": [
    "### A1. Solve the nonlinear system of equations using the generalized Newton method. Make sure you find all solutions (there are 4!). Under what conditions would the solver create problems? What checks can you put on/in your solver to avoid diverging from the solution or continuing through with NaNs?"
   ]
  },
  {
   "cell_type": "markdown",
   "id": "e7bb2a5e-bd56-402c-b546-48fcf75328ce",
   "metadata": {},
   "source": [
    "*Solution:*"
   ]
  },
  {
   "cell_type": "code",
   "execution_count": 19,
   "id": "c631025f-effe-48f9-b7ae-972e90d05830",
   "metadata": {},
   "outputs": [
    {
     "data": {
      "image/png": "[encoded data removed]",
      "text/plain": [
       "<Figure size 640x480 with 1 Axes>"
      ]
     },
     "metadata": {},
     "output_type": "display_data"
    }
   ],
   "source": [
    "F = lambda p : np.array([p[0] * p[1] - 0.1,\n",
    "                         p[0]**2 + 3*p[1]**2 - 2])\n",
    "\n",
    "X, Y = np.meshgrid(np.linspace(-2,2), np.linspace(-1.5,1.5))\n",
    "Z = F(np.array([X, Y]))\n",
    "plt.contour(X, Y, Z[0], levels=[0])\n",
    "plt.contour(X, Y, Z[1], levels=[0])\n",
    "plt.grid()\n",
    "plt.axis('equal')\n",
    "plt.show()"
   ]
  },
  {
   "cell_type": "markdown",
   "id": "31a38a42-2b41-4078-92c6-db4b9f36c2bc",
   "metadata": {},
   "source": [
    "Before using the generalized Newton's method, we have to find first the Jacobian matrix $J$ of $f = (f_1, f_2)$:\n",
    "\\begin{equation}\n",
    "    J(x, y) = \\begin{pmatrix}\n",
    "        y & x \\\\\n",
    "        2x & 6y\n",
    "    \\end{pmatrix},\n",
    "\\end{equation}\n",
    "and its inverse:\n",
    "\\begin{equation}\n",
    "    J^{-1}(x, y) = \\frac{1}{6y^2-2x^2}\\begin{pmatrix}\n",
    "        6y & -x \\\\\n",
    "        -2x & y\n",
    "    \\end{pmatrix}.\n",
    "\\end{equation}"
   ]
  },
  {
   "cell_type": "code",
   "execution_count": 20,
   "id": "a09bf97e-072c-4d50-b1c7-7f199a099536",
   "metadata": {},
   "outputs": [],
   "source": [
    "def Jinv(p):\n",
    "    \"\"\"\n",
    "    Parameters:\n",
    "    p: 2-dimensional point. p[0] corresponds to coordinate x and p[1] to y.\n",
    "    \"\"\"\n",
    "    det = 6*p[1]**2 - 2*p[0]**2\n",
    "    return np.array([[6*p[1], -p[0]], [-2*p[0],  p[1]]]) / det"
   ]
  },
  {
   "cell_type": "code",
   "execution_count": 21,
   "id": "c4007d92-f364-40ab-b77b-83ee6c07cab9",
   "metadata": {
    "editable": true,
    "slideshow": {
     "slide_type": ""
    },
    "tags": []
   },
   "outputs": [],
   "source": [
    "def generalized_newton(f, dfinv, p1, e1, e2, print_output=True):\n",
    "    \"\"\"\n",
    "    Generalized Newton's method for root finding.\n",
    "\n",
    "    Parameters:\n",
    "    f: function whose roots we want to find.\n",
    "    dfinv: inverse of the Jacobian matrix of f.\n",
    "    p1: initial estimate of the root.\n",
    "    e1: tolerance in the difference of two consecutive estimates (estimated error).\n",
    "    e2: tolerance in f(x).\n",
    "\n",
    "    Returns:\n",
    "    np.array\n",
    "        the value obtained for the root of f.\n",
    "    \"\"\"\n",
    "    f1 = f(p1)\n",
    "    Jinv1 = dfinv(p1)\n",
    "    if (f1 != 0).any() and np.isfinite(Jinv1).all():\n",
    "        n = 1\n",
    "        while True:\n",
    "            p2 = p1\n",
    "            f2 = f1\n",
    "            p1 = p1 - Jinv1@f1\n",
    "            f1 = f(p1)\n",
    "            Jinv1 = dfinv(p1)\n",
    "            if not np.isfinite(Jinv1).all():\n",
    "                print(\"Jacobian matrix at point {p1} is not suitable for Newton's method.\")\n",
    "                break\n",
    "            estim_err = np.max(np.abs(p2 - p1))\n",
    "            if print_output:\n",
    "                print(f\"(Iter {n})\")\n",
    "                print(f\"\\t p={p1}\")\n",
    "                print(f\"\\t |f(p)|={np.linalg.norm(f1)}\")\n",
    "                print(f\"\\t estimated_error={estim_err}\")\n",
    "            if (estim_err < e1) or (np.linalg.norm(f2) < e2):\n",
    "                break\n",
    "            n += 1\n",
    "    return p1"
   ]
  },
  {
   "cell_type": "code",
   "execution_count": 22,
   "id": "52b009d5-7fa0-4d98-b616-329e07af6487",
   "metadata": {},
   "outputs": [
    {
     "name": "stdout",
     "output_type": "stream",
     "text": [
      "(Iter 1)\n",
      "\t p=[1.5 0.1]\n",
      "\t |f(p)|=0.28442925306655764\n",
      "\t estimated_error=0.5\n",
      "(Iter 2)\n",
      "\t p=[1.41216216 0.07252252]\n",
      "\t |f(p)|=0.010268207399871622\n",
      "\t estimated_error=0.08783783783783772\n",
      "(Iter 3)\n",
      "\t p=[1.40886563 0.07098269]\n",
      "\t |f(p)|=1.8683167470822763e-05\n",
      "\t estimated_error=0.0032965361025971696\n",
      "(Iter 4)\n",
      "\t p=[1.40885974 0.07097939]\n",
      "\t |f(p)|=7.014223778729044e-11\n",
      "\t estimated_error=5.8813576320204675e-06\n",
      "(Iter 5)\n",
      "\t p=[1.40885974 0.07097939]\n",
      "\t |f(p)|=4.440892098500626e-16\n",
      "\t estimated_error=2.1998403099132702e-11\n"
     ]
    },
    {
     "data": {
      "text/plain": [
       "array([1.40885974, 0.07097939])"
      ]
     },
     "execution_count": 22,
     "metadata": {},
     "output_type": "execute_result"
    }
   ],
   "source": [
    "generalized_newton(F, Jinv, np.array([1, 0]), 1e-9, 1e-9)"
   ]
  },
  {
   "cell_type": "markdown",
   "id": "cd9119d4-373d-4e27-8846-a1977f8c6be3",
   "metadata": {},
   "source": [
    "We find the first root at\n",
    "\\begin{equation}\n",
    "    r_1 = \\begin{pmatrix} 1.40885974 \\\\ 0.07097939 \\end{pmatrix}\n",
    "\\end{equation}"
   ]
  },
  {
   "cell_type": "code",
   "execution_count": 23,
   "id": "c0151f45-36e8-43da-ae3b-497659b3b0a8",
   "metadata": {},
   "outputs": [
    {
     "name": "stdout",
     "output_type": "stream",
     "text": [
      "(Iter 1)\n",
      "\t p=[0.1        0.83333333]\n",
      "\t |f(p)|=0.09480975102218588\n",
      "\t estimated_error=0.16666666666666663\n",
      "(Iter 2)\n",
      "\t p=[0.12234727 0.81377278]\n",
      "\t |f(p)|=0.0017042592086190236\n",
      "\t estimated_error=0.02234726688102892\n",
      "(Iter 3)\n",
      "\t p=[0.12293961 0.81340572]\n",
      "\t |f(p)|=7.857365196026019e-07\n",
      "\t estimated_error=0.0005923434947515405\n",
      "(Iter 4)\n",
      "\t p=[0.1229399  0.81340555]\n",
      "\t |f(p)|=1.7888806812711768e-13\n",
      "\t estimated_error=2.9291185470181613e-07\n",
      "(Iter 5)\n",
      "\t p=[0.1229399  0.81340555]\n",
      "\t |f(p)|=4.443059973708341e-16\n",
      "\t estimated_error=6.686318165805005e-14\n"
     ]
    },
    {
     "data": {
      "text/plain": [
       "array([0.1229399 , 0.81340555])"
      ]
     },
     "execution_count": 23,
     "metadata": {},
     "output_type": "execute_result"
    }
   ],
   "source": [
    "generalized_newton(F, Jinv, np.array([0, 1]), 1e-9, 1e-9)"
   ]
  },
  {
   "cell_type": "markdown",
   "id": "684ef0eb-ee43-4378-a607-44a4e51c3efe",
   "metadata": {},
   "source": [
    "We find the second root at\n",
    "\\begin{equation}\n",
    "    r_2 = \\begin{pmatrix} 0.1229399 \\\\ 0.81340555 \\end{pmatrix}\n",
    "\\end{equation}"
   ]
  },
  {
   "cell_type": "code",
   "execution_count": 24,
   "id": "e5fef46b-d87e-4f05-8d06-78b54c43928a",
   "metadata": {},
   "outputs": [
    {
     "name": "stdout",
     "output_type": "stream",
     "text": [
      "(Iter 1)\n",
      "\t p=[-1.5 -0.1]\n",
      "\t |f(p)|=0.28442925306655764\n",
      "\t estimated_error=0.5\n",
      "(Iter 2)\n",
      "\t p=[-1.41216216 -0.07252252]\n",
      "\t |f(p)|=0.010268207399871622\n",
      "\t estimated_error=0.08783783783783772\n",
      "(Iter 3)\n",
      "\t p=[-1.40886563 -0.07098269]\n",
      "\t |f(p)|=1.8683167470822763e-05\n",
      "\t estimated_error=0.0032965361025971696\n",
      "(Iter 4)\n",
      "\t p=[-1.40885974 -0.07097939]\n",
      "\t |f(p)|=7.014223778729044e-11\n",
      "\t estimated_error=5.8813576320204675e-06\n",
      "(Iter 5)\n",
      "\t p=[-1.40885974 -0.07097939]\n",
      "\t |f(p)|=4.440892098500626e-16\n",
      "\t estimated_error=2.1998403099132702e-11\n"
     ]
    },
    {
     "data": {
      "text/plain": [
       "array([-1.40885974, -0.07097939])"
      ]
     },
     "execution_count": 24,
     "metadata": {},
     "output_type": "execute_result"
    }
   ],
   "source": [
    "generalized_newton(F, Jinv, np.array([-1, 0]), 1e-9, 1e-9)"
   ]
  },
  {
   "cell_type": "markdown",
   "id": "4c5e3c98-6353-400a-b535-15862ee08204",
   "metadata": {},
   "source": [
    "We find the third root at\n",
    "\\begin{equation}\n",
    "    r_3 = \\begin{pmatrix} -1.40885974 \\\\ -0.07097939 \\end{pmatrix}\n",
    "\\end{equation}"
   ]
  },
  {
   "cell_type": "code",
   "execution_count": 25,
   "id": "03cc8ef4-3a77-414b-8275-af4d3835289f",
   "metadata": {},
   "outputs": [
    {
     "name": "stdout",
     "output_type": "stream",
     "text": [
      "(Iter 1)\n",
      "\t p=[-0.1        -0.83333333]\n",
      "\t |f(p)|=0.09480975102218588\n",
      "\t estimated_error=0.16666666666666663\n",
      "(Iter 2)\n",
      "\t p=[-0.12234727 -0.81377278]\n",
      "\t |f(p)|=0.0017042592086190236\n",
      "\t estimated_error=0.02234726688102892\n",
      "(Iter 3)\n",
      "\t p=[-0.12293961 -0.81340572]\n",
      "\t |f(p)|=7.857365196026019e-07\n",
      "\t estimated_error=0.0005923434947515405\n",
      "(Iter 4)\n",
      "\t p=[-0.1229399  -0.81340555]\n",
      "\t |f(p)|=1.7888806812711768e-13\n",
      "\t estimated_error=2.9291185470181613e-07\n",
      "(Iter 5)\n",
      "\t p=[-0.1229399  -0.81340555]\n",
      "\t |f(p)|=4.443059973708341e-16\n",
      "\t estimated_error=6.686318165805005e-14\n"
     ]
    },
    {
     "data": {
      "text/plain": [
       "array([-0.1229399 , -0.81340555])"
      ]
     },
     "execution_count": 25,
     "metadata": {},
     "output_type": "execute_result"
    }
   ],
   "source": [
    "generalized_newton(F, Jinv, np.array([0, -1]), 1e-9, 1e-9)"
   ]
  },
  {
   "cell_type": "markdown",
   "id": "ff55a2da-e7aa-4c10-bc13-592878e72cd9",
   "metadata": {},
   "source": [
    "We find the fourth root at\n",
    "\\begin{equation}\n",
    "    r_4 = \\begin{pmatrix} -0.1229399 \\\\ -0.81340555 \\end{pmatrix}\n",
    "\\end{equation}"
   ]
  },
  {
   "cell_type": "markdown",
   "id": "1d78fb4a-c91a-4710-a566-75ce82b81bab",
   "metadata": {},
   "source": [
    "The four roots are then\n",
    "\\begin{equation}\n",
    "    \\begin{pmatrix} 1.40885974 \\\\ 0.07097939 \\end{pmatrix},\n",
    "    \\begin{pmatrix} 0.1229399 \\\\ 0.81340555 \\end{pmatrix},\n",
    "    \\begin{pmatrix} -1.40885974 \\\\ -0.07097939 \\end{pmatrix},\n",
    "    \\begin{pmatrix} -0.1229399 \\\\ -0.81340555 \\end{pmatrix}.\n",
    "\\end{equation}"
   ]
  },
  {
   "cell_type": "markdown",
   "id": "a4bc243c-85c3-4367-a4b8-923361ae28e1",
   "metadata": {},
   "source": [
    "The solver would create problems when the Jacobian matrix is not invertible at one of the guesses, or equivalently, when the Jacobian determinant is zero. For that, we included in the code the check:\n",
    "```\n",
    "if not np.isfinite(Jinv1).all():\n",
    "    print(\"Jacobian matrix at point {p1} is not suitable for Newton's method.\")\n",
    "    break\n",
    "```\n",
    "which searchs for NaNs or infinites in the inverse of the Jacobian matrix. An alternative way to do this would be to check that the Jacobian determinant is non-zero (or not smaller than some threshold). For the function considered here, the Jacobian determinant is $6y^2-2x^2$."
   ]
  },
  {
   "cell_type": "markdown",
   "id": "97f65f6f-e9d2-42a6-aa89-7f34fded4440",
   "metadata": {},
   "source": [
    "### A2. Reformulate the equations and add a function for the \"improved\" $x = g(x)$ method to the above program. What are the requirements for convergence? How does this affect solving the above system of equations? How is the relative performance for the various roots? How does the program behave if you guess $(x, y) = (2, 1)$?"
   ]
  },
  {
   "cell_type": "markdown",
   "id": "b33fc181-e87d-4663-932c-8552ab263c8e",
   "metadata": {},
   "source": [
    "*Solution:*"
   ]
  },
  {
   "cell_type": "markdown",
   "id": "34257e3d-ecc5-4351-8878-8d57fbdcf548",
   "metadata": {},
   "source": [
    "We rewrite the equations in the form\n",
    "\\begin{align}\n",
    "    x &= \\frac{0.1}{y} \\\\\n",
    "    y &= \\pm\\frac{1}{\\sqrt{3}}\\sqrt{2-x^2},\n",
    "\\end{align}\n",
    "that is,\n",
    "\\begin{equation}\n",
    "    \\begin{pmatrix} x \\\\ y \\end{pmatrix} = g(x, y) = \\begin{pmatrix} g_1(x, y) \\\\ g_2(x, y) \\end{pmatrix} = \\begin{pmatrix} \\frac{0.1}{y} \\\\ \\pm\\frac{1}{\\sqrt{3}}\\sqrt{2-x^2} \\end{pmatrix}.\n",
    "\\end{equation}"
   ]
  },
  {
   "cell_type": "code",
   "execution_count": 26,
   "id": "47e4b96e-a3d3-48b1-8481-dbcb6d94a322",
   "metadata": {},
   "outputs": [],
   "source": [
    "g1 = lambda p : 0.1/p[1]\n",
    "g2p = lambda p : np.sqrt((2-p[0]**2)/3)\n",
    "g2m = lambda p : -np.sqrt((2-p[0]**2)/3)\n",
    "gp = [g1, g2p]\n",
    "gm = [g1, g2m]"
   ]
  },
  {
   "cell_type": "markdown",
   "id": "a79d1040-57af-4ebb-bd4b-e19064909ec4",
   "metadata": {},
   "source": [
    "For convergence, it is required that the following conditions are satisfied close to the roots:\n",
    "\\begin{align}\n",
    "    \\left| \\frac{\\partial g_1}{\\partial x} \\right| + \\left| \\frac{\\partial g_1}{\\partial y} \\right| &< 1 \\\\\n",
    "    \\left| \\frac{\\partial g_2}{\\partial x} \\right| + \\left| \\frac{\\partial g_2}{\\partial y} \\right| &< 1,\n",
    "\\end{align}\n",
    "which in this exercise translate to the conditions\n",
    "\\begin{align}\n",
    "    \\frac{0.1}{y^2} &< 1 \\\\\n",
    "    \\frac{1}{\\sqrt{3}}\\frac{|x|}{\\sqrt{2-x^2}} &< 1,\n",
    "\\end{align}\n",
    "that can also be written as\n",
    "\\begin{align}\n",
    "    |y| &> \\sqrt{0.1} = 0.31622776601683794 \\\\\n",
    "    |x| &< \\sqrt{\\frac{3}{2}} = 1.224744871391589.\n",
    "\\end{align}\n",
    "\n",
    "We see that the roots $(0.1229399, 0.81340555)$ and $(-0.1229399, -0.81340555)$ satisfy those conditions, but the roots $(1.40885974, 0.07097939)$ and $(-1.40885974, -0.07097939)$ don't, so we expect the method to succeed in the former, and have problems in the latter."
   ]
  },
  {
   "cell_type": "markdown",
   "id": "7b2e082a-acb4-4c24-8929-a783d737ed98",
   "metadata": {},
   "source": [
    "We now implement the improved $x=g(x)$ method in a function."
   ]
  },
  {
   "cell_type": "code",
   "execution_count": 27,
   "id": "609ae256-1a92-43d5-8899-1d49c970ecc2",
   "metadata": {
    "editable": true,
    "slideshow": {
     "slide_type": ""
    },
    "tags": []
   },
   "outputs": [],
   "source": [
    "def improved_x_gx(g, p1, e, print_output=True):\n",
    "    \"\"\"\n",
    "    Improved x = g(x) method for root finding.\n",
    "\n",
    "    Parameters:\n",
    "    g: list of functions corresponding to the components of g.\n",
    "    p1: initial estimate of the root, as a numpy array.\n",
    "    e: tolerance in the difference of two consecutive estimates (estimated error).\n",
    "\n",
    "    Returns:\n",
    "    np.array\n",
    "        the value obtained for the root of f.\n",
    "    \"\"\"\n",
    "    n = len(p1)\n",
    "    it = 1\n",
    "    while True:\n",
    "        p2 = p1.copy()\n",
    "        for i in range(n):\n",
    "            p1[i] = g[i](p1)\n",
    "        estim_err = np.max(np.abs(p2-p1))\n",
    "        if print_output:\n",
    "            print(f\"Iter {it}: p={p1}, estimated_error={estim_err}\")\n",
    "        if (estim_err < e):\n",
    "                break\n",
    "        it += 1\n",
    "    return p1"
   ]
  },
  {
   "cell_type": "code",
   "execution_count": 28,
   "id": "4540124a-2db3-4fd9-9697-25704eb8fdc7",
   "metadata": {},
   "outputs": [
    {
     "name": "stdout",
     "output_type": "stream",
     "text": [
      "Iter 1: p=[1.4084507  0.07363562], estimated_error=0.002635620381961995\n",
      "Iter 2: p=[1.3580384  0.22783891], estimated_error=0.1542032900474768\n",
      "Iter 3: p=[0.43890659 0.77617889], estimated_error=0.9191318055151367\n",
      "Iter 4: p=[0.12883628 0.81310131], estimated_error=0.31007031414734787\n",
      "Iter 5: p=[0.1229859  0.81340323], estimated_error=0.005850374495016644\n",
      "Iter 6: p=[0.12294025 0.81340554], estimated_error=4.565102807234378e-05\n",
      "Iter 7: p=[0.12293991 0.81340555], estimated_error=3.476838432575624e-07\n",
      "Iter 8: p=[0.1229399  0.81340555], estimated_error=2.6474962916411826e-09\n",
      "Iter 9: p=[0.1229399  0.81340555], estimated_error=2.015976274805098e-11\n"
     ]
    },
    {
     "data": {
      "text/plain": [
       "array([0.1229399 , 0.81340555])"
      ]
     },
     "execution_count": 28,
     "metadata": {},
     "output_type": "execute_result"
    }
   ],
   "source": [
    "improved_x_gx(gp, np.array([1.408, 0.071]), 1e-9)"
   ]
  },
  {
   "cell_type": "markdown",
   "id": "58e18989-9db2-476f-924c-30b501e89c7a",
   "metadata": {},
   "source": [
    "We see that even with an initial guess very close to the root $r_1 = (1.40885974, 0.07097939)$, the method doesn't converge to that root, converging instead to the other one for which the conditions are fulfilled, in this case $r_2 = (0.1229399 , 0.81340555)$"
   ]
  },
  {
   "cell_type": "code",
   "execution_count": 29,
   "id": "68f78b30-9965-4447-842c-85817e7c13cb",
   "metadata": {},
   "outputs": [
    {
     "name": "stdout",
     "output_type": "stream",
     "text": [
      "Iter 1: p=[0.13333333 0.81285961], estimated_error=0.13333333333333333\n",
      "Iter 2: p=[0.12302247 0.81340139], estimated_error=0.010310859175226492\n",
      "Iter 3: p=[0.12294053 0.81340552], estimated_error=8.194190576721327e-05\n",
      "Iter 4: p=[0.12293991 0.81340555], estimated_error=6.241752765479003e-07\n",
      "Iter 5: p=[0.1229399  0.81340555], estimated_error=4.752891719084218e-09\n",
      "Iter 6: p=[0.1229399  0.81340555], estimated_error=3.6191619146030973e-11\n"
     ]
    },
    {
     "data": {
      "text/plain": [
       "array([0.1229399 , 0.81340555])"
      ]
     },
     "execution_count": 29,
     "metadata": {},
     "output_type": "execute_result"
    }
   ],
   "source": [
    "improved_x_gx(gp, np.array([0, 0.75]), 1e-9)"
   ]
  },
  {
   "cell_type": "markdown",
   "id": "719e7f36-0101-4e05-8d61-fc0642cf4bfd",
   "metadata": {},
   "source": [
    "As expected, the method converges successfully to $r_2 = (0.1229399, 0.81340555)$"
   ]
  },
  {
   "cell_type": "code",
   "execution_count": 30,
   "id": "1b17efa1-abb7-438f-969f-266e0e2bc025",
   "metadata": {
    "editable": true,
    "slideshow": {
     "slide_type": ""
    },
    "tags": []
   },
   "outputs": [
    {
     "name": "stdout",
     "output_type": "stream",
     "text": [
      "Iter 1: p=[-1.4084507  -0.07363562], estimated_error=0.002635620381961995\n",
      "Iter 2: p=[-1.3580384  -0.22783891], estimated_error=0.1542032900474768\n",
      "Iter 3: p=[-0.43890659 -0.77617889], estimated_error=0.9191318055151367\n",
      "Iter 4: p=[-0.12883628 -0.81310131], estimated_error=0.31007031414734787\n",
      "Iter 5: p=[-0.1229859  -0.81340323], estimated_error=0.005850374495016644\n",
      "Iter 6: p=[-0.12294025 -0.81340554], estimated_error=4.565102807234378e-05\n",
      "Iter 7: p=[-0.12293991 -0.81340555], estimated_error=3.476838432575624e-07\n",
      "Iter 8: p=[-0.1229399  -0.81340555], estimated_error=2.6474962916411826e-09\n",
      "Iter 9: p=[-0.1229399  -0.81340555], estimated_error=2.015976274805098e-11\n"
     ]
    },
    {
     "data": {
      "text/plain": [
       "array([-0.1229399 , -0.81340555])"
      ]
     },
     "execution_count": 30,
     "metadata": {},
     "output_type": "execute_result"
    }
   ],
   "source": [
    "improved_x_gx(gm, np.array([-1.408, -0.071]), 1e-9)"
   ]
  },
  {
   "cell_type": "markdown",
   "id": "6f30003e-4e08-45ec-b00d-b5c17a161af9",
   "metadata": {},
   "source": [
    "We see that even with an initial guess very close to the root $r_3 = (1.40885974, 0.07097939)$, the method doesn't converge to that root, converging instead to the other one for which the conditions are fulfilled, in this case $r_4 = (-0.1229399 , -0.81340555)$."
   ]
  },
  {
   "cell_type": "code",
   "execution_count": 31,
   "id": "e17e79c2-c441-4f7f-b652-facdcb8ff2c9",
   "metadata": {},
   "outputs": [
    {
     "name": "stdout",
     "output_type": "stream",
     "text": [
      "Iter 1: p=[-0.13333333 -0.81285961], estimated_error=0.13333333333333333\n",
      "Iter 2: p=[-0.12302247 -0.81340139], estimated_error=0.010310859175226492\n",
      "Iter 3: p=[-0.12294053 -0.81340552], estimated_error=8.194190576721327e-05\n",
      "Iter 4: p=[-0.12293991 -0.81340555], estimated_error=6.241752765479003e-07\n",
      "Iter 5: p=[-0.1229399  -0.81340555], estimated_error=4.752891719084218e-09\n",
      "Iter 6: p=[-0.1229399  -0.81340555], estimated_error=3.6191619146030973e-11\n"
     ]
    },
    {
     "data": {
      "text/plain": [
       "array([-0.1229399 , -0.81340555])"
      ]
     },
     "execution_count": 31,
     "metadata": {},
     "output_type": "execute_result"
    }
   ],
   "source": [
    "improved_x_gx(gm, np.array([0, -0.75]), 1e-9)"
   ]
  },
  {
   "cell_type": "markdown",
   "id": "e19580a0-fce8-4a2b-bf89-778d322ae29c",
   "metadata": {},
   "source": [
    "As expected, the method converges successfully to $r_4 = (-0.1229399, -0.81340555)$."
   ]
  },
  {
   "cell_type": "markdown",
   "id": "be45c1a1-d21b-4ea6-82cb-9e77167f652e",
   "metadata": {},
   "source": [
    "For the guess $(x, y) = (2,1)$ we an error due to division by zero on the second iteration:"
   ]
  },
  {
   "cell_type": "code",
   "execution_count": 32,
   "id": "297029ba-54e7-4c46-8c41-732e92d1b0ca",
   "metadata": {},
   "outputs": [
    {
     "name": "stdout",
     "output_type": "stream",
     "text": [
      "Iter 1: p=[0 0], estimated_error=2\n"
     ]
    },
    {
     "name": "stderr",
     "output_type": "stream",
     "text": [
      "/tmp/ipykernel_81003/679357761.py:1: RuntimeWarning: divide by zero encountered in divide\n",
      "  g1 = lambda p : 0.1/p[1]\n"
     ]
    },
    {
     "ename": "OverflowError",
     "evalue": "cannot convert float infinity to integer",
     "output_type": "error",
     "traceback": [
      "\u001b[0;31m---------------------------------------------------------------------------\u001b[0m",
      "\u001b[0;31mOverflowError\u001b[0m                             Traceback (most recent call last)",
      "Cell \u001b[0;32mIn[32], line 1\u001b[0m\n\u001b[0;32m----> 1\u001b[0m improved_x_gx(gm, np\u001b[38;5;241m.\u001b[39marray([\u001b[38;5;241m2\u001b[39m, \u001b[38;5;241m1\u001b[39m]), \u001b[38;5;241m1e-9\u001b[39m)\n",
      "Cell \u001b[0;32mIn[27], line 19\u001b[0m, in \u001b[0;36mimproved_x_gx\u001b[0;34m(g, p1, e, print_output)\u001b[0m\n\u001b[1;32m     17\u001b[0m p2 \u001b[38;5;241m=\u001b[39m p1\u001b[38;5;241m.\u001b[39mcopy()\n\u001b[1;32m     18\u001b[0m \u001b[38;5;28;01mfor\u001b[39;00m i \u001b[38;5;129;01min\u001b[39;00m \u001b[38;5;28mrange\u001b[39m(n):\n\u001b[0;32m---> 19\u001b[0m     p1[i] \u001b[38;5;241m=\u001b[39m g[i](p1)\n\u001b[1;32m     20\u001b[0m estim_err \u001b[38;5;241m=\u001b[39m np\u001b[38;5;241m.\u001b[39mmax(np\u001b[38;5;241m.\u001b[39mabs(p2\u001b[38;5;241m-\u001b[39mp1))\n\u001b[1;32m     21\u001b[0m \u001b[38;5;28;01mif\u001b[39;00m print_output:\n",
      "\u001b[0;31mOverflowError\u001b[0m: cannot convert float infinity to integer"
     ]
    }
   ],
   "source": [
    "improved_x_gx(gm, np.array([2, 1]), 1e-9)"
   ]
  }
 ],
 "metadata": {
  "kernelspec": {
   "display_name": "Python 3 (ipykernel)",
   "language": "python",
   "name": "python3"
  },
  "language_info": {
   "codemirror_mode": {
    "name": "ipython",
    "version": 3
   },
   "file_extension": ".py",
   "mimetype": "text/x-python",
   "name": "python",
   "nbconvert_exporter": "python",
   "pygments_lexer": "ipython3",
   "version": "3.12.7"
  }
 },
 "nbformat": 4,
 "nbformat_minor": 5
}
